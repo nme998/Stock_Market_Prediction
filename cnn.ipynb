{
 "cells": [
  {
   "cell_type": "code",
   "execution_count": null,
   "metadata": {},
   "outputs": [],
   "source": [
    "import numpy as np\n",
    "import pandas as pd\n",
    "from tensorflow.keras.models import Sequential\n",
    "from tensorflow.keras.layers import Dense, Conv1D, Flatten, Dropout, MaxPooling1D\n",
    "from sklearn.model_selection import train_test_split\n",
    "from sklearn.preprocessing import MinMaxScaler"
   ]
  },
  {
   "cell_type": "code",
   "execution_count": null,
   "metadata": {},
   "outputs": [],
   "source": [
    "# Charger vos données\n",
    "# Remplacez 'votre_dataframe.csv' par le chemin de votre fichier contenant les données 'High', 'Low', 'Open', 'Close'\n",
    "df = pd.read_csv('votre_dataframe.csv')\n",
    "\n",
    "# Sélectionner les caractéristiques et les normaliser\n",
    "features = df[['High', 'Low', 'Open', 'Close']]\n",
    "scaler = MinMaxScaler(feature_range=(0, 1))\n",
    "scaled_features = scaler.fit_transform(features)"
   ]
  },
  {
   "cell_type": "code",
   "execution_count": null,
   "metadata": {},
   "outputs": [],
   "source": [
    "# Préparer les données pour l'entraînement\n",
    "# Vous devrez peut-être adapter cette partie pour correspondre à la structure de vos données\n",
    "def create_dataset(X, time_steps=1):\n",
    "    Xs = []\n",
    "    for i in range(len(X) - time_steps):\n",
    "        v = X.iloc[i:(i + time_steps)].to_numpy()\n",
    "        Xs.append(v)        \n",
    "    return np.array(Xs)\n",
    "\n",
    "time_steps = 100\n",
    "X = create_dataset(features, time_steps)\n",
    "y = df['Close'].shift(-time_steps).dropna().values"
   ]
  }
 ],
 "metadata": {
  "language_info": {
   "name": "python"
  }
 },
 "nbformat": 4,
 "nbformat_minor": 2
}
